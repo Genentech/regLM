{
 "cells": [
  {
   "cell_type": "code",
   "execution_count": 1,
   "id": "c0ebfa2f-1038-416c-8af2-084b5b9338c5",
   "metadata": {},
   "outputs": [
    {
     "name": "stderr",
     "output_type": "stream",
     "text": [
      "/opt/conda/lib/python3.8/site-packages/tqdm/auto.py:21: TqdmWarning: IProgress not found. Please update jupyter and ipywidgets. See https://ipywidgets.readthedocs.io/en/stable/user_install.html\n",
      "  from .autonotebook import tqdm as notebook_tqdm\n"
     ]
    }
   ],
   "source": [
    "import numpy as np\n",
    "import pandas as pd\n",
    "import torch\n",
    "from plotnine import *"
   ]
  },
  {
   "cell_type": "markdown",
   "id": "d34228ac-864d-4bdb-8c98-ccca03651b79",
   "metadata": {},
   "source": [
    "## Download yeast native promoter expression data"
   ]
  },
  {
   "cell_type": "code",
   "execution_count": 2,
   "id": "eb7ef50b-275d-426e-8060-ff37f4deed98",
   "metadata": {},
   "outputs": [
    {
     "data": {
      "text/html": [
       "<div>\n",
       "<style scoped>\n",
       "    .dataframe tbody tr th:only-of-type {\n",
       "        vertical-align: middle;\n",
       "    }\n",
       "\n",
       "    .dataframe tbody tr th {\n",
       "        vertical-align: top;\n",
       "    }\n",
       "\n",
       "    .dataframe thead th {\n",
       "        text-align: right;\n",
       "    }\n",
       "</style>\n",
       "<table border=\"1\" class=\"dataframe\">\n",
       "  <thead>\n",
       "    <tr style=\"text-align: right;\">\n",
       "      <th></th>\n",
       "      <th>Sequence</th>\n",
       "      <th>expression</th>\n",
       "    </tr>\n",
       "    <tr>\n",
       "      <th>index</th>\n",
       "      <th></th>\n",
       "      <th></th>\n",
       "    </tr>\n",
       "  </thead>\n",
       "  <tbody>\n",
       "    <tr>\n",
       "      <th>0</th>\n",
       "      <td>TGCATTTTTTTCACATCAAAAAAAAAAAGAAAAACAAAGAAAAAGG...</td>\n",
       "      <td>13.168816</td>\n",
       "    </tr>\n",
       "    <tr>\n",
       "      <th>1</th>\n",
       "      <td>TGCATTTTTTTCACATCAAAAAAAAAAAGAAAAAGAAACAAAAAGG...</td>\n",
       "      <td>13.457919</td>\n",
       "    </tr>\n",
       "    <tr>\n",
       "      <th>2</th>\n",
       "      <td>TGCATTTTTTTCACATCAAAAAAAAAAAGAAAAAGAAAGAAAAAGA...</td>\n",
       "      <td>13.855758</td>\n",
       "    </tr>\n",
       "    <tr>\n",
       "      <th>3</th>\n",
       "      <td>TGCATTTTTTTCACATCAAAAAAAAAAAGAAAAAGAAAGAAAAAGG...</td>\n",
       "      <td>12.043120</td>\n",
       "    </tr>\n",
       "    <tr>\n",
       "      <th>4</th>\n",
       "      <td>TGCATTTTTTTCACATCAAAAAAAAAAAGAAAAAGAAAGAAAAAGG...</td>\n",
       "      <td>13.529583</td>\n",
       "    </tr>\n",
       "  </tbody>\n",
       "</table>\n",
       "</div>"
      ],
      "text/plain": [
       "                                                Sequence  expression\n",
       "index                                                               \n",
       "0      TGCATTTTTTTCACATCAAAAAAAAAAAGAAAAACAAAGAAAAAGG...   13.168816\n",
       "1      TGCATTTTTTTCACATCAAAAAAAAAAAGAAAAAGAAACAAAAAGG...   13.457919\n",
       "2      TGCATTTTTTTCACATCAAAAAAAAAAAGAAAAAGAAAGAAAAAGA...   13.855758\n",
       "3      TGCATTTTTTTCACATCAAAAAAAAAAAGAAAAAGAAAGAAAAAGG...   12.043120\n",
       "4      TGCATTTTTTTCACATCAAAAAAAAAAAGAAAAAGAAAGAAAAAGG...   13.529583"
      ]
     },
     "execution_count": 2,
     "metadata": {},
     "output_type": "execute_result"
    }
   ],
   "source": [
    "yeast_data = pd.read_csv(\n",
    "    'https://zenodo.org/records/4436477/files/Native_complex.csv', usecols=(0, 1, 2),\n",
    "    skiprows=1,\n",
    "    index_col=0,\n",
    "    names=['index', 'Sequence', 'expression'])\n",
    "\n",
    "yeast_data.head()"
   ]
  },
  {
   "cell_type": "markdown",
   "id": "e6910101-20e8-44a1-af06-60c2a6254d5d",
   "metadata": {},
   "source": [
    "## Bin the sequences and create labels"
   ]
  },
  {
   "cell_type": "code",
   "execution_count": 3,
   "id": "5aac4632-16a7-437e-88fd-3cd750672637",
   "metadata": {
    "scrolled": true
   },
   "outputs": [
    {
     "name": "stdout",
     "output_type": "stream",
     "text": [
      "expression [9.24094738948754]\n"
     ]
    },
    {
     "data": {
      "text/html": [
       "<div>\n",
       "<style scoped>\n",
       "    .dataframe tbody tr th:only-of-type {\n",
       "        vertical-align: middle;\n",
       "    }\n",
       "\n",
       "    .dataframe tbody tr th {\n",
       "        vertical-align: top;\n",
       "    }\n",
       "\n",
       "    .dataframe thead th {\n",
       "        text-align: right;\n",
       "    }\n",
       "</style>\n",
       "<table border=\"1\" class=\"dataframe\">\n",
       "  <thead>\n",
       "    <tr style=\"text-align: right;\">\n",
       "      <th></th>\n",
       "      <th>Sequence</th>\n",
       "      <th>expression</th>\n",
       "      <th>label</th>\n",
       "      <th>expression_token</th>\n",
       "    </tr>\n",
       "    <tr>\n",
       "      <th>index</th>\n",
       "      <th></th>\n",
       "      <th></th>\n",
       "      <th></th>\n",
       "      <th></th>\n",
       "    </tr>\n",
       "  </thead>\n",
       "  <tbody>\n",
       "    <tr>\n",
       "      <th>0</th>\n",
       "      <td>TGCATTTTTTTCACATCAAAAAAAAAAAGAAAAACAAAGAAAAAGG...</td>\n",
       "      <td>13.168816</td>\n",
       "      <td>1</td>\n",
       "      <td>1</td>\n",
       "    </tr>\n",
       "    <tr>\n",
       "      <th>1</th>\n",
       "      <td>TGCATTTTTTTCACATCAAAAAAAAAAAGAAAAAGAAACAAAAAGG...</td>\n",
       "      <td>13.457919</td>\n",
       "      <td>1</td>\n",
       "      <td>1</td>\n",
       "    </tr>\n",
       "    <tr>\n",
       "      <th>2</th>\n",
       "      <td>TGCATTTTTTTCACATCAAAAAAAAAAAGAAAAAGAAAGAAAAAGA...</td>\n",
       "      <td>13.855758</td>\n",
       "      <td>1</td>\n",
       "      <td>1</td>\n",
       "    </tr>\n",
       "    <tr>\n",
       "      <th>3</th>\n",
       "      <td>TGCATTTTTTTCACATCAAAAAAAAAAAGAAAAAGAAAGAAAAAGG...</td>\n",
       "      <td>12.043120</td>\n",
       "      <td>1</td>\n",
       "      <td>1</td>\n",
       "    </tr>\n",
       "    <tr>\n",
       "      <th>4</th>\n",
       "      <td>TGCATTTTTTTCACATCAAAAAAAAAAAGAAAAAGAAAGAAAAAGG...</td>\n",
       "      <td>13.529583</td>\n",
       "      <td>1</td>\n",
       "      <td>1</td>\n",
       "    </tr>\n",
       "  </tbody>\n",
       "</table>\n",
       "</div>"
      ],
      "text/plain": [
       "                                                Sequence  expression label  \\\n",
       "index                                                                        \n",
       "0      TGCATTTTTTTCACATCAAAAAAAAAAAGAAAAACAAAGAAAAAGG...   13.168816     1   \n",
       "1      TGCATTTTTTTCACATCAAAAAAAAAAAGAAAAAGAAACAAAAAGG...   13.457919     1   \n",
       "2      TGCATTTTTTTCACATCAAAAAAAAAAAGAAAAAGAAAGAAAAAGA...   13.855758     1   \n",
       "3      TGCATTTTTTTCACATCAAAAAAAAAAAGAAAAAGAAAGAAAAAGG...   12.043120     1   \n",
       "4      TGCATTTTTTTCACATCAAAAAAAAAAAGAAAAAGAAAGAAAAAGG...   13.529583     1   \n",
       "\n",
       "      expression_token  \n",
       "index                   \n",
       "0                    1  \n",
       "1                    1  \n",
       "2                    1  \n",
       "3                    1  \n",
       "4                    1  "
      ]
     },
     "execution_count": 3,
     "metadata": {},
     "output_type": "execute_result"
    }
   ],
   "source": [
    "import reglm.utils\n",
    "yeast_data = reglm.utils.tokenize(yeast_data, cols=['expression'],\n",
    "                             names=['expression'], n_bins=2)\n",
    "\n",
    "yeast_data.head()"
   ]
  },
  {
   "cell_type": "code",
   "execution_count": 4,
   "id": "b2f3b792-ce08-49a7-be9f-22ff5c3e6a48",
   "metadata": {},
   "outputs": [
    {
     "data": {
      "image/png": "[encoded data removed]",
      "text/plain": [
       "<Figure size 400x200 with 1 Axes>"
      ]
     },
     "metadata": {
      "image/png": {
       "height": 200,
       "width": 400
      }
     },
     "output_type": "display_data"
    },
    {
     "data": {
      "text/plain": [
       "<Figure Size: (400 x 200)>"
      ]
     },
     "execution_count": 4,
     "metadata": {},
     "output_type": "execute_result"
    }
   ],
   "source": [
    "(\n",
    "    ggplot(yeast_data, aes(x='expression', color='label')) + geom_density()\n",
    "    + theme(figure_size=(4,2))\n",
    ")"
   ]
  },
  {
   "cell_type": "markdown",
   "id": "c8e7a70e-c8ac-462d-bafb-85ea81b7b248",
   "metadata": {},
   "source": [
    "## Split data into train, val and test"
   ]
  },
  {
   "cell_type": "code",
   "execution_count": 5,
   "id": "4e64655e-1939-4464-bbd4-2f234a075cc4",
   "metadata": {},
   "outputs": [
    {
     "data": {
      "text/plain": [
       "(2929, 500, 500)"
      ]
     },
     "execution_count": 5,
     "metadata": {},
     "output_type": "execute_result"
    }
   ],
   "source": [
    "rng = np.random.RandomState(0)\n",
    "train = yeast_data[['Sequence', 'label']].copy()\n",
    "\n",
    "val = train.sample(500, random_state=rng)\n",
    "train = train.loc[~train.index.isin(val.index)]\n",
    "\n",
    "test = train.sample(500, random_state=rng)\n",
    "train = train.loc[~train.index.isin(test.index)]\n",
    "\n",
    "len(train), len(val), len(test)"
   ]
  },
  {
   "cell_type": "markdown",
   "id": "7d540698-ac03-43bd-8ed3-c9313c49f508",
   "metadata": {},
   "source": [
    "## Create torch datasets for training and validation"
   ]
  },
  {
   "cell_type": "code",
   "execution_count": 6,
   "id": "ec376e22-1eeb-472c-a06e-017cdfdace80",
   "metadata": {},
   "outputs": [],
   "source": [
    "import reglm.dataset\n",
    "train_ds = reglm.dataset.CharDataset(\n",
    "    train.Sequence.tolist(), labels = train.label.tolist())\n",
    "val_ds = reglm.dataset.CharDataset(\n",
    "    seqs = val.Sequence.tolist(), labels = val.label.tolist())"
   ]
  },
  {
   "cell_type": "markdown",
   "id": "9c35f1f1-b769-442d-964b-346288eb4af5",
   "metadata": {},
   "source": [
    "## Build the regLM model"
   ]
  },
  {
   "cell_type": "code",
   "execution_count": 7,
   "id": "cf3353f4-1244-4b0c-a3d1-f5cfaa03fbd8",
   "metadata": {},
   "outputs": [],
   "source": [
    "import reglm.lightning"
   ]
  },
  {
   "cell_type": "code",
   "execution_count": 10,
   "id": "7f8f6d36-deee-4bc2-a0cd-fc0b95309420",
   "metadata": {},
   "outputs": [],
   "source": [
    "config = {\n",
    " 'd_model': 32,\n",
    " 'n_layer': 2,\n",
    " 'd_inner': 32,\n",
    " 'vocab_size': 12,\n",
    " 'pad_vocab_size_multiple': 8,\n",
    " 'return_hidden_state': True,\n",
    " 'layer': {\n",
    "     'emb_dim': 5,\n",
    "     'filter_order': 64,\n",
    "     'l_max': train_ds.seq_len + train_ds.label_len + 1,\n",
    "     '_name_': 'hyena'\n",
    " }\n",
    "}"
   ]
  },
  {
   "cell_type": "code",
   "execution_count": 12,
   "id": "9f8b9672-8c5f-4268-81b0-e3a4a836ff91",
   "metadata": {},
   "outputs": [
    {
     "name": "stdout",
     "output_type": "stream",
     "text": [
      "number of parameters: 0.04M\n"
     ]
    }
   ],
   "source": [
    "model = reglm.lightning.LightningModel(\n",
    "    config=config, lr=1e-3, label_len=1).to(torch.device(0))"
   ]
  },
  {
   "cell_type": "markdown",
   "id": "a517b7ba-3a36-42ae-968c-4aa4b8fb0ff6",
   "metadata": {},
   "source": [
    "## Train and validate model"
   ]
  },
  {
   "cell_type": "code",
   "execution_count": 13,
   "id": "bb35ab53-cb7b-4e01-af92-bb38897d453a",
   "metadata": {},
   "outputs": [
    {
     "name": "stderr",
     "output_type": "stream",
     "text": [
      "GPU available: True (cuda), used: True\n",
      "TPU available: False, using: 0 TPU cores\n",
      "IPU available: False, using: 0 IPUs\n",
      "HPU available: False, using: 0 HPUs\n",
      "LOCAL_RANK: 0 - CUDA_VISIBLE_DEVICES: [0,1,2,3,4,5,6,7]\n"
     ]
    },
    {
     "name": "stdout",
     "output_type": "stream",
     "text": [
      "Validation DataLoader 0: 100%|██████████████████████████████████████| 2/2 [00:00<00:00,  2.59it/s]\n",
      "Val loss: 2.639369010925293, val acc: 0.3059999942779541\n",
      "Validation DataLoader 0: 100%|██████████████████████████████████████| 2/2 [00:00<00:00,  2.56it/s]\n"
     ]
    },
    {
     "data": {
      "text/html": [
       "<pre style=\"white-space:pre;overflow-x:auto;line-height:normal;font-family:Menlo,'DejaVu Sans Mono',consolas,'Courier New',monospace\">┏━━━━━━━━━━━━━━━━━━━━━━━━━━━┳━━━━━━━━━━━━━━━━━━━━━━━━━━━┓\n",
       "┃<span style=\"font-weight: bold\">      Validate metric      </span>┃<span style=\"font-weight: bold\">       DataLoader 0        </span>┃\n",
       "┡━━━━━━━━━━━━━━━━━━━━━━━━━━━╇━━━━━━━━━━━━━━━━━━━━━━━━━━━┩\n",
       "│<span style=\"color: #008080; text-decoration-color: #008080\">          val_acc          </span>│<span style=\"color: #800080; text-decoration-color: #800080\">    0.3059999942779541     </span>│\n",
       "│<span style=\"color: #008080; text-decoration-color: #008080\">         val_loss          </span>│<span style=\"color: #800080; text-decoration-color: #800080\">    2.6393609046936035     </span>│\n",
       "└───────────────────────────┴───────────────────────────┘\n",
       "</pre>\n"
      ],
      "text/plain": [
       "┏━━━━━━━━━━━━━━━━━━━━━━━━━━━┳━━━━━━━━━━━━━━━━━━━━━━━━━━━┓\n",
       "┃\u001b[1m \u001b[0m\u001b[1m     Validate metric     \u001b[0m\u001b[1m \u001b[0m┃\u001b[1m \u001b[0m\u001b[1m      DataLoader 0       \u001b[0m\u001b[1m \u001b[0m┃\n",
       "┡━━━━━━━━━━━━━━━━━━━━━━━━━━━╇━━━━━━━━━━━━━━━━━━━━━━━━━━━┩\n",
       "│\u001b[36m \u001b[0m\u001b[36m         val_acc         \u001b[0m\u001b[36m \u001b[0m│\u001b[35m \u001b[0m\u001b[35m   0.3059999942779541    \u001b[0m\u001b[35m \u001b[0m│\n",
       "│\u001b[36m \u001b[0m\u001b[36m        val_loss         \u001b[0m\u001b[36m \u001b[0m│\u001b[35m \u001b[0m\u001b[35m   2.6393609046936035    \u001b[0m\u001b[35m \u001b[0m│\n",
       "└───────────────────────────┴───────────────────────────┘\n"
      ]
     },
     "metadata": {},
     "output_type": "display_data"
    },
    {
     "name": "stderr",
     "output_type": "stream",
     "text": [
      "LOCAL_RANK: 0 - CUDA_VISIBLE_DEVICES: [0,1,2,3,4,5,6,7]\n",
      "\n",
      "  | Name      | Type               | Params\n",
      "-------------------------------------------------\n",
      "0 | model     | ConvLMHeadModel    | 37.1 K\n",
      "1 | train_acc | MulticlassAccuracy | 0     \n",
      "2 | val_acc   | MulticlassAccuracy | 0     \n",
      "-------------------------------------------------\n",
      "37.1 K    Trainable params\n",
      "0         Non-trainable params\n",
      "37.1 K    Total params\n",
      "0.148     Total estimated model params size (MB)\n"
     ]
    },
    {
     "name": "stdout",
     "output_type": "stream",
     "text": [
      "Sanity Checking DataLoader 0: 100%|█████████████████████████████████| 2/2 [00:00<00:00, 60.27it/s]\n",
      "Val loss: 2.639369010925293, val acc: 0.3059999942779541\n",
      "                                                                                                  "
     ]
    },
    {
     "name": "stderr",
     "output_type": "stream",
     "text": [
      "/opt/conda/lib/python3.8/site-packages/pytorch_lightning/trainer/trainer.py:1595: PossibleUserWarning: The number of training batches (12) is smaller than the logging interval Trainer(log_every_n_steps=50). Set a lower value for log_every_n_steps if you want to see logs for the training epoch.\n"
     ]
    },
    {
     "name": "stdout",
     "output_type": "stream",
     "text": [
      "Epoch 0:  71%|█████▋  | 10/14 [00:02<00:01,  3.79it/s, loss=2.41, v_num=10, train_loss_step=2.230]\n",
      "Validation: 0it [00:00, ?it/s]\u001b[A\n",
      "Validation:   0%|                                                           | 0/2 [00:00<?, ?it/s]\u001b[A\n",
      "Validation DataLoader 0:   0%|                                              | 0/2 [00:00<?, ?it/s]\u001b[A\n",
      "Epoch 0:  79%|██████▎ | 11/14 [00:04<00:01,  2.43it/s, loss=2.41, v_num=10, train_loss_step=2.230]\u001b[A\n",
      "Epoch 0:  86%|██████▊ | 12/14 [00:04<00:00,  2.64it/s, loss=2.41, v_num=10, train_loss_step=2.230]\u001b[A\n",
      "Val loss: 2.1948914527893066, val acc: 0.31873273849487305\n",
      "Epoch 0:  86%|██████▊ | 12/14 [00:04<00:00,  2.64it/s, loss=2.41, v_num=10, train_loss_step=2.230]\n",
      "Epoch 1:  71%|▋| 10/14 [00:02<00:01,  3.96it/s, loss=2.16, v_num=10, train_loss_step=1.870, train_\u001b[A\n",
      "Validation: 0it [00:00, ?it/s]\u001b[A\n",
      "Validation:   0%|                                                           | 0/2 [00:00<?, ?it/s]\u001b[A\n",
      "Validation DataLoader 0:   0%|                                              | 0/2 [00:00<?, ?it/s]\u001b[A\n",
      "Epoch 1:  79%|▊| 11/14 [00:04<00:01,  2.38it/s, loss=2.16, v_num=10, train_loss_step=1.870, train_\u001b[A\n",
      "Epoch 1:  86%|▊| 12/14 [00:04<00:00,  2.60it/s, loss=2.16, v_num=10, train_loss_step=1.870, train_\u001b[A\n",
      "Val loss: 1.8451852798461914, val acc: 0.3271621763706207\n",
      "Epoch 1:  86%|▊| 12/14 [00:04<00:00,  2.59it/s, loss=2.16, v_num=10, train_loss_step=1.870, train_\n",
      "Epoch 2:  71%|▋| 10/14 [00:02<00:00,  4.32it/s, loss=1.83, v_num=10, train_loss_step=1.640, train_\u001b[A\n",
      "Validation: 0it [00:00, ?it/s]\u001b[A\n",
      "Validation:   0%|                                                           | 0/2 [00:00<?, ?it/s]\u001b[A\n",
      "Validation DataLoader 0:   0%|                                              | 0/2 [00:00<?, ?it/s]\u001b[A\n",
      "Epoch 2:  79%|▊| 11/14 [00:04<00:01,  2.65it/s, loss=1.83, v_num=10, train_loss_step=1.640, train_\u001b[A\n",
      "Epoch 2:  86%|▊| 12/14 [00:04<00:00,  2.88it/s, loss=1.83, v_num=10, train_loss_step=1.640, train_\u001b[A\n",
      "Val loss: 1.6297390460968018, val acc: 0.33221980929374695\n",
      "Epoch 2:  86%|▊| 12/14 [00:04<00:00,  2.88it/s, loss=1.83, v_num=10, train_loss_step=1.640, train_\n",
      "Epoch 3:  71%|▋| 10/14 [00:02<00:01,  3.77it/s, loss=1.62, v_num=10, train_loss_step=1.520, train_\u001b[A\n",
      "Validation: 0it [00:00, ?it/s]\u001b[A\n",
      "Validation:   0%|                                                           | 0/2 [00:00<?, ?it/s]\u001b[A\n",
      "Validation DataLoader 0:   0%|                                              | 0/2 [00:00<?, ?it/s]\u001b[A\n",
      "Epoch 3:  79%|▊| 11/14 [00:04<00:01,  2.23it/s, loss=1.62, v_num=10, train_loss_step=1.520, train_\u001b[A\n",
      "Epoch 3:  86%|▊| 12/14 [00:04<00:00,  2.43it/s, loss=1.62, v_num=10, train_loss_step=1.520, train_\u001b[A\n",
      "Val loss: 1.5154331922531128, val acc: 0.335591584444046\n",
      "Epoch 3:  86%|▊| 12/14 [00:04<00:00,  2.43it/s, loss=1.62, v_num=10, train_loss_step=1.520, train_\n",
      "Epoch 4:  71%|▋| 10/14 [00:02<00:01,  3.97it/s, loss=1.51, v_num=10, train_loss_step=1.460, train_\u001b[A\n",
      "Validation: 0it [00:00, ?it/s]\u001b[A\n",
      "Validation:   0%|                                                           | 0/2 [00:00<?, ?it/s]\u001b[A\n",
      "Validation DataLoader 0:   0%|                                              | 0/2 [00:00<?, ?it/s]\u001b[A\n",
      "Epoch 4:  79%|▊| 11/14 [00:04<00:01,  2.47it/s, loss=1.51, v_num=10, train_loss_step=1.460, train_\u001b[A\n",
      "Epoch 4:  86%|▊| 12/14 [00:04<00:00,  2.70it/s, loss=1.51, v_num=10, train_loss_step=1.460, train_\u001b[A\n",
      "Val loss: 1.4504921436309814, val acc: 0.3395238220691681\n",
      "Epoch 4:  86%|▊| 12/14 [00:04<00:00,  2.69it/s, loss=1.51, v_num=10, train_loss_step=1.460, train_\n",
      "Epoch 5:  71%|▋| 10/14 [00:02<00:00,  4.12it/s, loss=1.45, v_num=10, train_loss_step=1.410, train_\u001b[A\n",
      "Validation: 0it [00:00, ?it/s]\u001b[A\n",
      "Validation:   0%|                                                           | 0/2 [00:00<?, ?it/s]\u001b[A\n",
      "Validation DataLoader 0:   0%|                                              | 0/2 [00:00<?, ?it/s]\u001b[A\n",
      "Epoch 5:  79%|▊| 11/14 [00:04<00:01,  2.33it/s, loss=1.45, v_num=10, train_loss_step=1.410, train_\u001b[A\n",
      "Epoch 5:  86%|▊| 12/14 [00:04<00:00,  2.53it/s, loss=1.45, v_num=10, train_loss_step=1.410, train_\u001b[A\n",
      "Val loss: 1.3980190753936768, val acc: 0.3459864854812622\n",
      "Epoch 5:  86%|▊| 12/14 [00:04<00:00,  2.53it/s, loss=1.45, v_num=10, train_loss_step=1.410, train_\n",
      "Epoch 6:  71%|▋| 10/14 [00:02<00:00,  4.17it/s, loss=1.4, v_num=10, train_loss_step=1.360, train_l\u001b[A\n",
      "Validation: 0it [00:00, ?it/s]\u001b[A\n",
      "Validation:   0%|                                                           | 0/2 [00:00<?, ?it/s]\u001b[A\n",
      "Validation DataLoader 0:   0%|                                              | 0/2 [00:00<?, ?it/s]\u001b[A\n",
      "Epoch 6:  79%|▊| 11/14 [00:04<00:01,  2.42it/s, loss=1.4, v_num=10, train_loss_step=1.360, train_l\u001b[A\n",
      "Epoch 6:  86%|▊| 12/14 [00:04<00:00,  2.64it/s, loss=1.4, v_num=10, train_loss_step=1.360, train_l\u001b[A\n",
      "Val loss: 1.3507966995239258, val acc: 0.3539579510688782\n",
      "Epoch 6:  86%|▊| 12/14 [00:04<00:00,  2.63it/s, loss=1.4, v_num=10, train_loss_step=1.360, train_l\n",
      "Epoch 7:  71%|▋| 10/14 [00:02<00:00,  4.27it/s, loss=1.35, v_num=10, train_loss_step=1.320, train_\u001b[A\n",
      "Validation: 0it [00:00, ?it/s]\u001b[A\n",
      "Validation:   0%|                                                           | 0/2 [00:00<?, ?it/s]\u001b[A\n",
      "Validation DataLoader 0:   0%|                                              | 0/2 [00:00<?, ?it/s]\u001b[A\n",
      "Epoch 7:  79%|▊| 11/14 [00:04<00:01,  2.45it/s, loss=1.35, v_num=10, train_loss_step=1.320, train_\u001b[A\n",
      "Epoch 7:  86%|▊| 12/14 [00:04<00:00,  2.67it/s, loss=1.35, v_num=10, train_loss_step=1.320, train_\u001b[A\n",
      "Val loss: 1.3169329166412354, val acc: 0.3638738691806793\n",
      "Epoch 7:  86%|▊| 12/14 [00:04<00:00,  2.67it/s, loss=1.35, v_num=10, train_loss_step=1.320, train_\n",
      "Epoch 8:  71%|▋| 10/14 [00:02<00:01,  3.98it/s, loss=1.31, v_num=10, train_loss_step=1.280, train_\u001b[A\n",
      "Validation: 0it [00:00, ?it/s]\u001b[A\n",
      "Validation:   0%|                                                           | 0/2 [00:00<?, ?it/s]\u001b[A\n",
      "Validation DataLoader 0:   0%|                                              | 0/2 [00:00<?, ?it/s]\u001b[A\n",
      "Epoch 8:  79%|▊| 11/14 [00:04<00:01,  2.31it/s, loss=1.31, v_num=10, train_loss_step=1.280, train_\u001b[A\n",
      "Epoch 8:  86%|▊| 12/14 [00:04<00:00,  2.52it/s, loss=1.31, v_num=10, train_loss_step=1.280, train_\u001b[A\n",
      "Val loss: 1.2752059698104858, val acc: 0.37444552779197693\n",
      "Epoch 8:  86%|▊| 12/14 [00:04<00:00,  2.51it/s, loss=1.31, v_num=10, train_loss_step=1.280, train_\n",
      "Epoch 9:  71%|▋| 10/14 [00:02<00:01,  3.87it/s, loss=1.27, v_num=10, train_loss_step=1.250, train_\u001b[A\n",
      "Validation: 0it [00:00, ?it/s]\u001b[A\n",
      "Validation:   0%|                                                           | 0/2 [00:00<?, ?it/s]\u001b[A\n",
      "Validation DataLoader 0:   0%|                                              | 0/2 [00:00<?, ?it/s]\u001b[A\n",
      "Epoch 9:  79%|▊| 11/14 [00:04<00:01,  2.48it/s, loss=1.27, v_num=10, train_loss_step=1.250, train_\u001b[A\n",
      "Epoch 9:  86%|▊| 12/14 [00:04<00:00,  2.70it/s, loss=1.27, v_num=10, train_loss_step=1.250, train_\u001b[A\n",
      "Val loss: 1.238427758216858, val acc: 0.3836981952190399\n",
      "Epoch 9:  86%|▊| 12/14 [00:04<00:00,  2.69it/s, loss=1.27, v_num=10, train_loss_step=1.250, train_\n",
      "Epoch 9: 100%|█| 14/14 [00:04<00:00,  3.11it/s, loss=1.27, v_num=10, train_loss_step=1.240, train_\u001b[A"
     ]
    },
    {
     "name": "stderr",
     "output_type": "stream",
     "text": [
      "`Trainer.fit` stopped: `max_epochs=10` reached.\n"
     ]
    },
    {
     "name": "stdout",
     "output_type": "stream",
     "text": [
      "Epoch 9: 100%|█| 14/14 [00:04<00:00,  3.11it/s, loss=1.27, v_num=10, train_loss_step=1.240, train_\n"
     ]
    }
   ],
   "source": [
    "trainer = model.train_on_dataset(train_ds, val_ds, max_epochs=10,\n",
    "            batch_size=256, num_workers=8, device=0, val_check_interval=10\n",
    "        )"
   ]
  },
  {
   "cell_type": "code",
   "execution_count": 14,
   "id": "e2d15100-1b34-4229-9dcf-229cf5c1e0ad",
   "metadata": {},
   "outputs": [
    {
     "data": {
      "text/plain": [
       "'./lightning_logs/version_10/checkpoints/epoch=9-step=118.ckpt'"
      ]
     },
     "execution_count": 14,
     "metadata": {},
     "output_type": "execute_result"
    }
   ],
   "source": [
    "trainer.checkpoint_callback.best_model_path"
   ]
  },
  {
   "cell_type": "markdown",
   "id": "ac1a09a2-9c03-4d18-aca9-2575ab479a62",
   "metadata": {},
   "source": [
    "## Load best validation model"
   ]
  },
  {
   "cell_type": "code",
   "execution_count": 15,
   "id": "061ad00c-f3f4-4786-a056-3819676ec06b",
   "metadata": {},
   "outputs": [
    {
     "name": "stdout",
     "output_type": "stream",
     "text": [
      "number of parameters: 0.04M\n"
     ]
    }
   ],
   "source": [
    "model = reglm.lightning.LightningModel.load_from_checkpoint(\n",
    "    trainer.checkpoint_callback.best_model_path)\n",
    "\n",
    "model = model.to(torch.device(0))"
   ]
  },
  {
   "cell_type": "markdown",
   "id": "ae4424cd-ca34-4274-ba20-9d16c8894adb",
   "metadata": {},
   "source": [
    "## Compute accuracy on the test set"
   ]
  },
  {
   "cell_type": "code",
   "execution_count": 16,
   "id": "125dded2-cde5-4013-9c5b-d3fde2bdf17e",
   "metadata": {},
   "outputs": [
    {
     "name": "stdout",
     "output_type": "stream",
     "text": [
      "Mean accuracy: 0.481\n"
     ]
    }
   ],
   "source": [
    "import reglm.metrics\n",
    "test = reglm.metrics.compute_accuracy(model, test)"
   ]
  },
  {
   "cell_type": "code",
   "execution_count": 17,
   "id": "f0a6e7f4-0cda-4959-a6a1-e4bb3ae9bc3e",
   "metadata": {},
   "outputs": [
    {
     "data": {
      "text/html": [
       "<div>\n",
       "<style scoped>\n",
       "    .dataframe tbody tr th:only-of-type {\n",
       "        vertical-align: middle;\n",
       "    }\n",
       "\n",
       "    .dataframe tbody tr th {\n",
       "        vertical-align: top;\n",
       "    }\n",
       "\n",
       "    .dataframe thead th {\n",
       "        text-align: right;\n",
       "    }\n",
       "</style>\n",
       "<table border=\"1\" class=\"dataframe\">\n",
       "  <thead>\n",
       "    <tr style=\"text-align: right;\">\n",
       "      <th></th>\n",
       "      <th>Sequence</th>\n",
       "      <th>label</th>\n",
       "      <th>acc</th>\n",
       "      <th>acc_mean</th>\n",
       "    </tr>\n",
       "    <tr>\n",
       "      <th>index</th>\n",
       "      <th></th>\n",
       "      <th></th>\n",
       "      <th></th>\n",
       "      <th></th>\n",
       "    </tr>\n",
       "  </thead>\n",
       "  <tbody>\n",
       "    <tr>\n",
       "      <th>1119</th>\n",
       "      <td>TGCATTTTTTTCACATCATTTTCATAACCATTTACCCTCATAAATG...</td>\n",
       "      <td>0</td>\n",
       "      <td>[True, True, True, True, True, True, True, Tru...</td>\n",
       "      <td>0.567568</td>\n",
       "    </tr>\n",
       "    <tr>\n",
       "      <th>1814</th>\n",
       "      <td>TGCATTTTTTTCACATCCTAATTGTGACATAGGAACGAAAATTAAT...</td>\n",
       "      <td>0</td>\n",
       "      <td>[True, True, True, True, True, True, True, Tru...</td>\n",
       "      <td>0.468468</td>\n",
       "    </tr>\n",
       "    <tr>\n",
       "      <th>1539</th>\n",
       "      <td>TGCATTTTTTTCACATCCCTGCGTGCCCGCGCACCCTGGCGACTTC...</td>\n",
       "      <td>1</td>\n",
       "      <td>[True, True, True, True, True, True, True, Tru...</td>\n",
       "      <td>0.405405</td>\n",
       "    </tr>\n",
       "  </tbody>\n",
       "</table>\n",
       "</div>"
      ],
      "text/plain": [
       "                                                Sequence label  \\\n",
       "index                                                            \n",
       "1119   TGCATTTTTTTCACATCATTTTCATAACCATTTACCCTCATAAATG...     0   \n",
       "1814   TGCATTTTTTTCACATCCTAATTGTGACATAGGAACGAAAATTAAT...     0   \n",
       "1539   TGCATTTTTTTCACATCCCTGCGTGCCCGCGCACCCTGGCGACTTC...     1   \n",
       "\n",
       "                                                     acc  acc_mean  \n",
       "index                                                               \n",
       "1119   [True, True, True, True, True, True, True, Tru...  0.567568  \n",
       "1814   [True, True, True, True, True, True, True, Tru...  0.468468  \n",
       "1539   [True, True, True, True, True, True, True, Tru...  0.405405  "
      ]
     },
     "execution_count": 17,
     "metadata": {},
     "output_type": "execute_result"
    }
   ],
   "source": [
    "test.head(3)"
   ]
  },
  {
   "cell_type": "code",
   "execution_count": 18,
   "id": "5bce165e-51e0-4084-ae4c-f4a12cd69a99",
   "metadata": {},
   "outputs": [
    {
     "data": {
      "image/png": "[encoded data removed]",
      "text/plain": [
       "<Figure size 300x300 with 1 Axes>"
      ]
     },
     "metadata": {
      "image/png": {
       "height": 300,
       "width": 300
      }
     },
     "output_type": "display_data"
    },
    {
     "data": {
      "text/plain": [
       "<Figure Size: (300 x 300)>"
      ]
     },
     "execution_count": 18,
     "metadata": {},
     "output_type": "execute_result"
    }
   ],
   "source": [
    "(\n",
    "    ggplot(test, aes(x='label', y='acc_mean')) + geom_boxplot()\n",
    "    + theme(figure_size=(3, 3)) + ylab('Mean Accuracy')\n",
    ")"
   ]
  },
  {
   "cell_type": "markdown",
   "id": "83e564cb-6f2e-4f16-9b1e-fd927fe05c72",
   "metadata": {},
   "source": [
    "## Generate new sequences"
   ]
  },
  {
   "cell_type": "code",
   "execution_count": 19,
   "id": "95f3656c-f34e-4542-9c3b-44fc79f3e024",
   "metadata": {},
   "outputs": [],
   "source": [
    "prompts = [\"0\", \"1\"]"
   ]
  },
  {
   "cell_type": "code",
   "execution_count": 21,
   "id": "5cd36f3d-b830-4c23-93c6-012e9e031e6a",
   "metadata": {
    "scrolled": true
   },
   "outputs": [
    {
     "data": {
      "text/plain": [
       "['TGCTATATTTTTTCACATCAACTACATAATAATAAATTTTAATAAAAAAATTAAGAAATATATATAATATATAAGGTATGGTTAATGTTTACGATTATTTATGTTTTCTT',\n",
       " 'AGATATAATTTTAACATAACAAAATAAAAAAATTTAAGGTAAAATATATTTTTTAAAATAAATAAAAAATTTTAAATAAATAAAAATAATAAAAATTATAAAATTAAAGG']"
      ]
     },
     "execution_count": 21,
     "metadata": {},
     "output_type": "execute_result"
    }
   ],
   "source": [
    "model.generate(prompts, max_new_tokens=110, top_k=2)"
   ]
  },
  {
   "cell_type": "code",
   "execution_count": null,
   "id": "e0c4a299-083d-4c69-8ae2-78df39a650be",
   "metadata": {},
   "outputs": [],
   "source": []
  }
 ],
 "metadata": {
  "kernelspec": {
   "display_name": "Python 3 (ipykernel)",
   "language": "python",
   "name": "python3"
  },
  "language_info": {
   "codemirror_mode": {
    "name": "ipython",
    "version": 3
   },
   "file_extension": ".py",
   "mimetype": "text/x-python",
   "name": "python",
   "nbconvert_exporter": "python",
   "pygments_lexer": "ipython3",
   "version": "3.8.17"
  }
 },
 "nbformat": 4,
 "nbformat_minor": 5
}
